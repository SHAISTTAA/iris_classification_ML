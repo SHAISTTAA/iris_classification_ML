{
 "cells": [
  {
   "cell_type": "code",
   "execution_count": null,
   "id": "e23b5788",
   "metadata": {
    "vscode": {
     "languageId": "plaintext"
    }
   },
   "outputs": [],
   "source": [
    "# Cell 1: Setup, Import Libraries, and Load Data\n",
    "\n",
    "import pandas as pd\n",
    "import numpy as np\n",
    "import matplotlib.pyplot as plt\n",
    "import seaborn as sns\n",
    "from sklearn.datasets import load_iris\n",
    "\n",
    "# 1. Load the Dataset\n",
    "# 'iris' is a dictionary-like object holding the data\n",
    "iris = load_iris()\n",
    "\n",
    "# 2. Convert to a Pandas DataFrame\n",
    "df = pd.DataFrame(data=iris.data, columns=iris.feature_names)\n",
    "\n",
    "# 3. Add the target (species) columns for clarity\n",
    "df['species'] = iris.target\n",
    "df['species_name'] = df['species'].apply(lambda x: iris.target_names[x])\n",
    "\n",
    "# Display the first 5 rows to inspect the data\n",
    "print(\"--- Dataset Head ---\")\n",
    "print(df.head())\n",
    "print(\"\\n--- Species Distribution ---\")\n",
    "print(df['species_name'].value_counts())"
   ]
  },
  {
   "cell_type": "code",
   "execution_count": null,
   "id": "768c79f7",
   "metadata": {
    "vscode": {
     "languageId": "plaintext"
    }
   },
   "outputs": [],
   "source": [
    "# Cell 2: Exploratory Data Analysis (EDA)\n",
    "\n",
    "# Plotting Petal Length vs. Petal Width, colored by species\n",
    "plt.figure(figsize=(9, 6))\n",
    "sns.scatterplot(\n",
    "    x='petal length (cm)',\n",
    "    y='petal width (cm)',\n",
    "    hue='species_name',\n",
    "    data=df,\n",
    "    palette='viridis',\n",
    "    s=120  # Size of the dots\n",
    ")\n",
    "plt.title('Iris Data: Petal Dimensions by Species')\n",
    "plt.xlabel('Petal Length (cm)')\n",
    "plt.ylabel('Petal Width (cm)')\n",
    "plt.legend(title='Species')\n",
    "plt.grid(True, linestyle='--', alpha=0.6)\n",
    "plt.show()"
   ]
  },
  {
   "cell_type": "code",
   "execution_count": null,
   "id": "5cacb3a6",
   "metadata": {
    "vscode": {
     "languageId": "plaintext"
    }
   },
   "outputs": [],
   "source": [
    "# Cell 3: Data Preprocessing and Splitting\n",
    "\n",
    "from sklearn.model_selection import train_test_split\n",
    "\n",
    "# X = Features (all 4 measurements)\n",
    "X = df.drop(['species', 'species_name'], axis=1)\n",
    "\n",
    "# y = Target (the numerical species label)\n",
    "y = df['species']\n",
    "\n",
    "# Split the data: 80% for training the model, 20% for testing its accuracy\n",
    "X_train, X_test, y_train, y_test = train_test_split(\n",
    "    X, y, test_size=0.2, random_state=42\n",
    ")\n",
    "\n",
    "# Verify the sizes of the resulting datasets\n",
    "print(f\"Total samples: {len(X)}\")\n",
    "print(f\"Training set size: {len(X_train)} samples\")\n",
    "print(f\"Testing set size: {len(X_test)} samples\")"
   ]
  },
  {
   "cell_type": "code",
   "execution_count": null,
   "id": "ce3ebe61",
   "metadata": {
    "vscode": {
     "languageId": "plaintext"
    }
   },
   "outputs": [],
   "source": [
    "# Cell 4: Model Training (K-Nearest Neighbors)\n",
    "\n",
    "from sklearn.neighbors import KNeighborsClassifier\n",
    "\n",
    "# 1. Initialize the KNN model\n",
    "knn_model = KNeighborsClassifier(n_neighbors=3)\n",
    "\n",
    "# 2. Train the model using the training data\n",
    "knn_model.fit(X_train, y_train)\n",
    "\n",
    "print(\"K-Nearest Neighbors Model training complete!\")"
   ]
  },
  {
   "cell_type": "code",
   "execution_count": null,
   "id": "cc14e502",
   "metadata": {
    "vscode": {
     "languageId": "plaintext"
    }
   },
   "outputs": [],
   "source": [
    "# Cell 5: Evaluation and Prediction\n",
    "\n",
    "from sklearn.metrics import accuracy_score, confusion_matrix\n",
    "\n",
    "# 1. Make predictions on the test set\n",
    "y_pred = knn_model.predict(X_test)\n",
    "\n",
    "# 2. Calculate the accuracy\n",
    "accuracy = accuracy_score(y_test, y_pred)\n",
    "print(f\"Model Accuracy on Test Data: {accuracy * 100:.2f}%\")\n",
    "\n",
    "# 3. View the Confusion Matrix\n",
    "cm = confusion_matrix(y_test, y_pred)\n",
    "print(\"\\n--- Confusion Matrix ---\")\n",
    "print(cm)\n",
    "\n",
    "# 4. Demonstrate a single prediction (Predict a new, unseen flower)\n",
    "# Example measurements (Sepal L, Sepal W, Petal L, Petal W)\n",
    "new_flower_data = np.array([[6.3, 3.3, 6.0, 2.5]]) # This is typically a Virginica\n",
    "\n",
    "prediction_result = knn_model.predict(new_flower_data)\n",
    "predicted_species = iris.target_names[prediction_result[0]]\n",
    "\n",
    "print(f\"\\nPrediction for new flower (measurements: {new_flower_data[0]}):\")\n",
    "print(f\"-> Predicted Species: {predicted_species}\")"
   ]
  },
  {
   "cell_type": "code",
   "execution_count": null,
   "id": "6426c269",
   "metadata": {
    "vscode": {
     "languageId": "plaintext"
    }
   },
   "outputs": [],
   "source": []
  }
 ],
 "metadata": {
  "language_info": {
   "name": "python"
  }
 },
 "nbformat": 4,
 "nbformat_minor": 5
}
